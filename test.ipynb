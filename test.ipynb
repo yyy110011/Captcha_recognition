{
 "cells": [
  {
   "cell_type": "code",
   "execution_count": 2,
   "metadata": {},
   "outputs": [],
   "source": [
    "from model import captcha_model\n",
    "from func import load_data\n",
    "\n",
    "from keras import backend as K\n",
    "# set GPU memory \n",
    "if('tensorflow' == K.backend()):\n",
    "    import tensorflow as tf\n",
    "    from keras.backend.tensorflow_backend import set_session\n",
    "\n",
    "    config = tf.ConfigProto()\n",
    "    config.gpu_options.allow_growth = True\n",
    "    sess = tf.Session(config=config)"
   ]
  },
  {
   "cell_type": "code",
   "execution_count": 3,
   "metadata": {},
   "outputs": [
    {
     "name": "stderr",
     "output_type": "stream",
     "text": [
      "WARNING: Logging before flag parsing goes to stderr.\n",
      "W0722 17:16:38.995100 139673718155072 deprecation_wrapper.py:119] From /usr/local/lib/python3.6/dist-packages/keras/backend/tensorflow_backend.py:517: The name tf.placeholder is deprecated. Please use tf.compat.v1.placeholder instead.\n",
      "\n",
      "W0722 17:16:38.999654 139673718155072 deprecation_wrapper.py:119] From /usr/local/lib/python3.6/dist-packages/keras/backend/tensorflow_backend.py:4138: The name tf.random_uniform is deprecated. Please use tf.random.uniform instead.\n",
      "\n",
      "W0722 17:16:39.010137 139673718155072 deprecation_wrapper.py:119] From /usr/local/lib/python3.6/dist-packages/keras/backend/tensorflow_backend.py:131: The name tf.get_default_graph is deprecated. Please use tf.compat.v1.get_default_graph instead.\n",
      "\n",
      "W0722 17:16:39.010785 139673718155072 deprecation_wrapper.py:119] From /usr/local/lib/python3.6/dist-packages/keras/backend/tensorflow_backend.py:133: The name tf.placeholder_with_default is deprecated. Please use tf.compat.v1.placeholder_with_default instead.\n",
      "\n",
      "W0722 17:16:39.016400 139673718155072 deprecation.py:506] From /usr/local/lib/python3.6/dist-packages/keras/backend/tensorflow_backend.py:3445: calling dropout (from tensorflow.python.ops.nn_ops) with keep_prob is deprecated and will be removed in a future version.\n",
      "Instructions for updating:\n",
      "Please use `rate` instead of `keep_prob`. Rate should be set to `rate = 1 - keep_prob`.\n",
      "W0722 17:16:39.034881 139673718155072 deprecation_wrapper.py:119] From /usr/local/lib/python3.6/dist-packages/keras/backend/tensorflow_backend.py:3976: The name tf.nn.max_pool is deprecated. Please use tf.nn.max_pool2d instead.\n",
      "\n",
      "W0722 17:16:39.101865 139673718155072 deprecation_wrapper.py:119] From /usr/local/lib/python3.6/dist-packages/keras/backend/tensorflow_backend.py:174: The name tf.get_default_session is deprecated. Please use tf.compat.v1.get_default_session instead.\n",
      "\n",
      "W0722 17:16:39.645573 139673718155072 deprecation_wrapper.py:119] From /usr/local/lib/python3.6/dist-packages/keras/backend/tensorflow_backend.py:1834: The name tf.nn.fused_batch_norm is deprecated. Please use tf.compat.v1.nn.fused_batch_norm instead.\n",
      "\n",
      "W0722 17:16:40.164492 139673718155072 deprecation_wrapper.py:119] From /usr/local/lib/python3.6/dist-packages/keras/optimizers.py:790: The name tf.train.Optimizer is deprecated. Please use tf.compat.v1.train.Optimizer instead.\n",
      "\n",
      "W0722 17:16:40.653802 139673718155072 deprecation.py:323] From /usr/local/lib/python3.6/dist-packages/tensorflow/python/ops/math_grad.py:1250: add_dispatch_support.<locals>.wrapper (from tensorflow.python.ops.array_ops) is deprecated and will be removed in a future version.\n",
      "Instructions for updating:\n",
      "Use tf.where in 2.0, which has the same broadcast rule as np.where\n"
     ]
    }
   ],
   "source": [
    "test = captcha_model('./models/190721_18:21:53_e15000_b100.h5', useCircleLabel=1)\n",
    "test.load_model()"
   ]
  },
  {
   "cell_type": "code",
   "execution_count": 3,
   "metadata": {},
   "outputs": [
    {
     "name": "stdout",
     "output_type": "stream",
     "text": [
      "__________________________________________________________________________________________________\n",
      "Layer (type)                    Output Shape         Param #     Connected to                     \n",
      "==================================================================================================\n",
      "input_1 (InputLayer)            (None, 75, 100, 3)   0                                            \n",
      "__________________________________________________________________________________________________\n",
      "conv2d_1 (Conv2D)               (None, 75, 100, 32)  896         input_1[0][0]                    \n",
      "__________________________________________________________________________________________________\n",
      "dropout_1 (Dropout)             (None, 75, 100, 32)  0           conv2d_1[0][0]                   \n",
      "__________________________________________________________________________________________________\n",
      "conv2d_2 (Conv2D)               (None, 73, 98, 32)   9248        dropout_1[0][0]                  \n",
      "__________________________________________________________________________________________________\n",
      "max_pooling2d_1 (MaxPooling2D)  (None, 36, 49, 32)   0           conv2d_2[0][0]                   \n",
      "__________________________________________________________________________________________________\n",
      "conv2d_3 (Conv2D)               (None, 36, 49, 64)   18496       max_pooling2d_1[0][0]            \n",
      "__________________________________________________________________________________________________\n",
      "dropout_2 (Dropout)             (None, 36, 49, 64)   0           conv2d_3[0][0]                   \n",
      "__________________________________________________________________________________________________\n",
      "conv2d_4 (Conv2D)               (None, 34, 47, 64)   36928       dropout_2[0][0]                  \n",
      "__________________________________________________________________________________________________\n",
      "max_pooling2d_2 (MaxPooling2D)  (None, 17, 23, 64)   0           conv2d_4[0][0]                   \n",
      "__________________________________________________________________________________________________\n",
      "conv2d_5 (Conv2D)               (None, 17, 23, 128)  73856       max_pooling2d_2[0][0]            \n",
      "__________________________________________________________________________________________________\n",
      "dropout_3 (Dropout)             (None, 17, 23, 128)  0           conv2d_5[0][0]                   \n",
      "__________________________________________________________________________________________________\n",
      "conv2d_6 (Conv2D)               (None, 15, 21, 128)  147584      dropout_3[0][0]                  \n",
      "__________________________________________________________________________________________________\n",
      "batch_normalization_1 (BatchNor (None, 15, 21, 128)  512         conv2d_6[0][0]                   \n",
      "__________________________________________________________________________________________________\n",
      "max_pooling2d_3 (MaxPooling2D)  (None, 7, 10, 128)   0           batch_normalization_1[0][0]      \n",
      "__________________________________________________________________________________________________\n",
      "conv2d_7 (Conv2D)               (None, 7, 10, 256)   295168      max_pooling2d_3[0][0]            \n",
      "__________________________________________________________________________________________________\n",
      "dropout_4 (Dropout)             (None, 7, 10, 256)   0           conv2d_7[0][0]                   \n",
      "__________________________________________________________________________________________________\n",
      "conv2d_8 (Conv2D)               (None, 7, 10, 256)   590080      dropout_4[0][0]                  \n",
      "__________________________________________________________________________________________________\n",
      "max_pooling2d_4 (MaxPooling2D)  (None, 3, 5, 256)    0           conv2d_8[0][0]                   \n",
      "__________________________________________________________________________________________________\n",
      "conv2d_9 (Conv2D)               (None, 3, 5, 512)    1180160     max_pooling2d_4[0][0]            \n",
      "__________________________________________________________________________________________________\n",
      "batch_normalization_2 (BatchNor (None, 3, 5, 512)    2048        conv2d_9[0][0]                   \n",
      "__________________________________________________________________________________________________\n",
      "max_pooling2d_5 (MaxPooling2D)  (None, 1, 2, 512)    0           batch_normalization_2[0][0]      \n",
      "__________________________________________________________________________________________________\n",
      "flatten_1 (Flatten)             (None, 1024)         0           max_pooling2d_5[0][0]            \n",
      "__________________________________________________________________________________________________\n",
      "dropout_5 (Dropout)             (None, 1024)         0           flatten_1[0][0]                  \n",
      "__________________________________________________________________________________________________\n",
      "digit1 (Dense)                  (None, 10)           10250       dropout_5[0][0]                  \n",
      "__________________________________________________________________________________________________\n",
      "dense_1 (Dense)                 (None, 10)           10250       dropout_5[0][0]                  \n",
      "__________________________________________________________________________________________________\n",
      "concatenate_1 (Concatenate)     (None, 20)           0           digit1[0][0]                     \n",
      "                                                                 dense_1[0][0]                    \n",
      "__________________________________________________________________________________________________\n",
      "digit2 (Dense)                  (None, 10)           210         concatenate_1[0][0]              \n",
      "__________________________________________________________________________________________________\n",
      "dense_2 (Dense)                 (None, 10)           10250       dropout_5[0][0]                  \n",
      "__________________________________________________________________________________________________\n",
      "concatenate_2 (Concatenate)     (None, 30)           0           digit1[0][0]                     \n",
      "                                                                 digit2[0][0]                     \n",
      "                                                                 dense_2[0][0]                    \n",
      "__________________________________________________________________________________________________\n",
      "digit3 (Dense)                  (None, 10)           310         concatenate_2[0][0]              \n",
      "__________________________________________________________________________________________________\n",
      "dense_3 (Dense)                 (None, 10)           10250       dropout_5[0][0]                  \n",
      "__________________________________________________________________________________________________\n",
      "circle1 (Dense)                 (None, 3)            3075        dropout_5[0][0]                  \n",
      "__________________________________________________________________________________________________\n",
      "circle2 (Dense)                 (None, 3)            3075        dropout_5[0][0]                  \n",
      "__________________________________________________________________________________________________\n",
      "circle3 (Dense)                 (None, 3)            3075        dropout_5[0][0]                  \n",
      "__________________________________________________________________________________________________\n",
      "circle4 (Dense)                 (None, 3)            3075        dropout_5[0][0]                  \n",
      "__________________________________________________________________________________________________\n",
      "concatenate_3 (Concatenate)     (None, 52)           0           digit1[0][0]                     \n",
      "                                                                 digit2[0][0]                     \n",
      "                                                                 digit3[0][0]                     \n",
      "                                                                 dense_3[0][0]                    \n",
      "                                                                 circle1[0][0]                    \n",
      "                                                                 circle2[0][0]                    \n",
      "                                                                 circle3[0][0]                    \n",
      "                                                                 circle4[0][0]                    \n",
      "__________________________________________________________________________________________________\n",
      "digit4 (Dense)                  (None, 10)           530         concatenate_3[0][0]              \n",
      "==================================================================================================\n",
      "Total params: 2,409,326\n",
      "Trainable params: 2,408,046\n",
      "Non-trainable params: 1,280\n",
      "__________________________________________________________________________________________________\n"
     ]
    }
   ],
   "source": [
    "test.model.summary()"
   ]
  },
  {
   "cell_type": "code",
   "execution_count": 4,
   "metadata": {},
   "outputs": [
    {
     "name": "stdout",
     "output_type": "stream",
     "text": [
      "Shape of x_train :  (800, 75, 100, 3)\n",
      "Shape of y_train :  (8, 800)\n",
      "Shape of x_val   :  (100, 75, 100, 3)\n",
      "Shape of y_val   :  (8, 100)\n"
     ]
    }
   ],
   "source": [
    "x_train, y_train, x_val, y_val = load_data('label.txt', 800, useCircleLabel=1)"
   ]
  },
  {
   "cell_type": "code",
   "execution_count": 5,
   "metadata": {},
   "outputs": [
    {
     "name": "stdout",
     "output_type": "stream",
     "text": [
      "Start training...\n",
      "Train on 800 samples, validate on 100 samples\n"
     ]
    },
    {
     "name": "stderr",
     "output_type": "stream",
     "text": [
      "W0722 15:52:33.867922 139888854476608 deprecation_wrapper.py:119] From /usr/local/lib/python3.6/dist-packages/keras/callbacks.py:850: The name tf.summary.merge_all is deprecated. Please use tf.compat.v1.summary.merge_all instead.\n",
      "\n",
      "W0722 15:52:33.868623 139888854476608 deprecation_wrapper.py:119] From /usr/local/lib/python3.6/dist-packages/keras/callbacks.py:853: The name tf.summary.FileWriter is deprecated. Please use tf.compat.v1.summary.FileWriter instead.\n",
      "\n"
     ]
    },
    {
     "name": "stdout",
     "output_type": "stream",
     "text": [
      "Epoch 1/50\n",
      "800/800 [==============================] - 4s 5ms/step - loss: 1.3443e-06 - digit1_loss: 1.3590e-07 - digit2_loss: 1.3933e-07 - digit3_loss: 1.2599e-07 - digit4_loss: 4.3923e-07 - circle1_loss: 1.2189e-07 - circle2_loss: 1.2413e-07 - circle3_loss: 1.1958e-07 - circle4_loss: 1.3828e-07 - digit1_acc: 1.0000 - digit2_acc: 1.0000 - digit3_acc: 1.0000 - digit4_acc: 1.0000 - circle1_acc: 1.0000 - circle2_acc: 1.0000 - circle3_acc: 1.0000 - circle4_acc: 1.0000 - val_loss: 0.7334 - val_digit1_loss: 4.5419e-07 - val_digit2_loss: 1.6749e-07 - val_digit3_loss: 1.3053e-07 - val_digit4_loss: 0.3511 - val_circle1_loss: 1.1921e-07 - val_circle2_loss: 1.5140e-07 - val_circle3_loss: 1.1921e-07 - val_circle4_loss: 0.3823 - val_digit1_acc: 1.0000 - val_digit2_acc: 1.0000 - val_digit3_acc: 1.0000 - val_digit4_acc: 0.9500 - val_circle1_acc: 1.0000 - val_circle2_acc: 1.0000 - val_circle3_acc: 1.0000 - val_circle4_acc: 0.9700\n",
      "Epoch 2/50\n",
      "800/800 [==============================] - 1s 822us/step - loss: 3.2351e-06 - digit1_loss: 2.5772e-07 - digit2_loss: 2.0824e-07 - digit3_loss: 1.5889e-06 - digit4_loss: 5.5717e-07 - circle1_loss: 1.2204e-07 - circle2_loss: 1.3322e-07 - circle3_loss: 1.4365e-07 - circle4_loss: 2.2412e-07 - digit1_acc: 1.0000 - digit2_acc: 1.0000 - digit3_acc: 1.0000 - digit4_acc: 1.0000 - circle1_acc: 1.0000 - circle2_acc: 1.0000 - circle3_acc: 1.0000 - circle4_acc: 1.0000 - val_loss: 0.9585 - val_digit1_loss: 0.0267 - val_digit2_loss: 8.4469e-05 - val_digit3_loss: 5.4523e-06 - val_digit4_loss: 0.4444 - val_circle1_loss: 1.2338e-07 - val_circle2_loss: 6.2288e-06 - val_circle3_loss: 1.1921e-07 - val_circle4_loss: 0.4873 - val_digit1_acc: 0.9900 - val_digit2_acc: 1.0000 - val_digit3_acc: 1.0000 - val_digit4_acc: 0.9500 - val_circle1_acc: 1.0000 - val_circle2_acc: 1.0000 - val_circle3_acc: 1.0000 - val_circle4_acc: 0.9500\n",
      "Epoch 3/50\n",
      "800/800 [==============================] - 1s 791us/step - loss: 5.9362e-04 - digit1_loss: 1.4767e-07 - digit2_loss: 1.3493e-07 - digit3_loss: 5.8400e-04 - digit4_loss: 7.0780e-06 - circle1_loss: 1.3769e-07 - circle2_loss: 1.2465e-07 - circle3_loss: 1.3791e-07 - circle4_loss: 1.8559e-06 - digit1_acc: 1.0000 - digit2_acc: 1.0000 - digit3_acc: 1.0000 - digit4_acc: 1.0000 - circle1_acc: 1.0000 - circle2_acc: 1.0000 - circle3_acc: 1.0000 - circle4_acc: 1.0000 - val_loss: 0.7435 - val_digit1_loss: 1.5963e-06 - val_digit2_loss: 2.9266e-07 - val_digit3_loss: 1.2636e-07 - val_digit4_loss: 0.3509 - val_circle1_loss: 1.1921e-07 - val_circle2_loss: 1.3947e-07 - val_circle3_loss: 4.4466e-07 - val_circle4_loss: 0.3926 - val_digit1_acc: 1.0000 - val_digit2_acc: 1.0000 - val_digit3_acc: 1.0000 - val_digit4_acc: 0.9500 - val_circle1_acc: 1.0000 - val_circle2_acc: 1.0000 - val_circle3_acc: 1.0000 - val_circle4_acc: 0.9700\n",
      "Epoch 4/50\n",
      "800/800 [==============================] - 1s 801us/step - loss: 2.1121e-06 - digit1_loss: 2.4513e-07 - digit2_loss: 4.8282e-07 - digit3_loss: 4.4138e-07 - digit4_loss: 4.1292e-07 - circle1_loss: 1.2398e-07 - circle2_loss: 1.2696e-07 - circle3_loss: 1.2636e-07 - circle4_loss: 1.5259e-07 - digit1_acc: 1.0000 - digit2_acc: 1.0000 - digit3_acc: 1.0000 - digit4_acc: 1.0000 - circle1_acc: 1.0000 - circle2_acc: 1.0000 - circle3_acc: 1.0000 - circle4_acc: 1.0000 - val_loss: 0.6397 - val_digit1_loss: 1.2517e-07 - val_digit2_loss: 1.2398e-07 - val_digit3_loss: 1.2159e-07 - val_digit4_loss: 0.2821 - val_circle1_loss: 1.1921e-07 - val_circle2_loss: 1.1921e-07 - val_circle3_loss: 1.8477e-07 - val_circle4_loss: 0.3576 - val_digit1_acc: 1.0000 - val_digit2_acc: 1.0000 - val_digit3_acc: 1.0000 - val_digit4_acc: 0.9500 - val_circle1_acc: 1.0000 - val_circle2_acc: 1.0000 - val_circle3_acc: 1.0000 - val_circle4_acc: 0.9700\n",
      "Epoch 5/50\n",
      "800/800 [==============================] - 1s 797us/step - loss: 5.4042e-06 - digit1_loss: 1.2659e-07 - digit2_loss: 2.5973e-07 - digit3_loss: 1.1065e-06 - digit4_loss: 2.1122e-06 - circle1_loss: 1.4186e-07 - circle2_loss: 1.4067e-07 - circle3_loss: 1.2182e-07 - circle4_loss: 1.3948e-06 - digit1_acc: 1.0000 - digit2_acc: 1.0000 - digit3_acc: 1.0000 - digit4_acc: 1.0000 - circle1_acc: 1.0000 - circle2_acc: 1.0000 - circle3_acc: 1.0000 - circle4_acc: 1.0000 - val_loss: 0.5986 - val_digit1_loss: 1.2040e-07 - val_digit2_loss: 1.2159e-07 - val_digit3_loss: 1.2338e-07 - val_digit4_loss: 0.2655 - val_circle1_loss: 1.1921e-07 - val_circle2_loss: 1.1921e-07 - val_circle3_loss: 1.3828e-07 - val_circle4_loss: 0.3331 - val_digit1_acc: 1.0000 - val_digit2_acc: 1.0000 - val_digit3_acc: 1.0000 - val_digit4_acc: 0.9500 - val_circle1_acc: 1.0000 - val_circle2_acc: 1.0000 - val_circle3_acc: 1.0000 - val_circle4_acc: 0.9700\n",
      "Epoch 6/50\n",
      "800/800 [==============================] - 1s 806us/step - loss: 1.6940e-04 - digit1_loss: 2.3097e-07 - digit2_loss: 7.9536e-07 - digit3_loss: 6.0463e-05 - digit4_loss: 1.0634e-04 - circle1_loss: 9.5640e-07 - circle2_loss: 1.4484e-07 - circle3_loss: 2.3097e-07 - circle4_loss: 2.4267e-07 - digit1_acc: 1.0000 - digit2_acc: 1.0000 - digit3_acc: 1.0000 - digit4_acc: 1.0000 - circle1_acc: 1.0000 - circle2_acc: 1.0000 - circle3_acc: 1.0000 - circle4_acc: 1.0000 - val_loss: 0.6523 - val_digit1_loss: 1.2517e-07 - val_digit2_loss: 1.4007e-07 - val_digit3_loss: 1.2577e-07 - val_digit4_loss: 0.2998 - val_circle1_loss: 1.4603e-07 - val_circle2_loss: 1.3173e-07 - val_circle3_loss: 2.1072e-06 - val_circle4_loss: 0.3526 - val_digit1_acc: 1.0000 - val_digit2_acc: 1.0000 - val_digit3_acc: 1.0000 - val_digit4_acc: 0.9500 - val_circle1_acc: 1.0000 - val_circle2_acc: 1.0000 - val_circle3_acc: 1.0000 - val_circle4_acc: 0.9700\n",
      "Epoch 7/50\n",
      "800/800 [==============================] - 1s 812us/step - loss: 8.3440e-05 - digit1_loss: 4.6218e-07 - digit2_loss: 6.9265e-07 - digit3_loss: 1.9695e-06 - digit4_loss: 6.1068e-05 - circle1_loss: 1.6786e-07 - circle2_loss: 2.8090e-06 - circle3_loss: 1.6069e-05 - circle4_loss: 2.0191e-07 - digit1_acc: 1.0000 - digit2_acc: 1.0000 - digit3_acc: 1.0000 - digit4_acc: 1.0000 - circle1_acc: 1.0000 - circle2_acc: 1.0000 - circle3_acc: 1.0000 - circle4_acc: 1.0000 - val_loss: 0.6573 - val_digit1_loss: 1.3471e-07 - val_digit2_loss: 3.5525e-07 - val_digit3_loss: 1.6987e-07 - val_digit4_loss: 0.3172 - val_circle1_loss: 7.2779e-07 - val_circle2_loss: 2.0385e-07 - val_circle3_loss: 1.6540e-05 - val_circle4_loss: 0.3401 - val_digit1_acc: 1.0000 - val_digit2_acc: 1.0000 - val_digit3_acc: 1.0000 - val_digit4_acc: 0.9500 - val_circle1_acc: 1.0000 - val_circle2_acc: 1.0000 - val_circle3_acc: 1.0000 - val_circle4_acc: 0.9700\n",
      "Epoch 8/50\n",
      "800/800 [==============================] - 1s 815us/step - loss: 3.0278e-05 - digit1_loss: 2.4333e-05 - digit2_loss: 1.6227e-07 - digit3_loss: 2.7783e-07 - digit4_loss: 1.8948e-06 - circle1_loss: 2.9408e-07 - circle2_loss: 2.7955e-07 - circle3_loss: 7.0836e-07 - circle4_loss: 2.3284e-06 - digit1_acc: 1.0000 - digit2_acc: 1.0000 - digit3_acc: 1.0000 - digit4_acc: 1.0000 - circle1_acc: 1.0000 - circle2_acc: 1.0000 - circle3_acc: 1.0000 - circle4_acc: 1.0000 - val_loss: 0.6493 - val_digit1_loss: 1.1921e-07 - val_digit2_loss: 1.2457e-07 - val_digit3_loss: 1.4126e-07 - val_digit4_loss: 0.3352 - val_circle1_loss: 1.2398e-07 - val_circle2_loss: 1.2040e-07 - val_circle3_loss: 1.1391e-06 - val_circle4_loss: 0.3140 - val_digit1_acc: 1.0000 - val_digit2_acc: 1.0000 - val_digit3_acc: 1.0000 - val_digit4_acc: 0.9500 - val_circle1_acc: 1.0000 - val_circle2_acc: 1.0000 - val_circle3_acc: 1.0000 - val_circle4_acc: 0.9700\n",
      "Epoch 9/50\n",
      "800/800 [==============================] - 1s 809us/step - loss: 1.5093e-05 - digit1_loss: 2.9930e-07 - digit2_loss: 3.9843e-06 - digit3_loss: 9.1112e-07 - digit4_loss: 1.9558e-06 - circle1_loss: 7.7053e-07 - circle2_loss: 5.6081e-06 - circle3_loss: 5.0392e-07 - circle4_loss: 1.0601e-06 - digit1_acc: 1.0000 - digit2_acc: 1.0000 - digit3_acc: 1.0000 - digit4_acc: 1.0000 - circle1_acc: 1.0000 - circle2_acc: 1.0000 - circle3_acc: 1.0000 - circle4_acc: 1.0000 - val_loss: 0.6582 - val_digit1_loss: 1.1921e-07 - val_digit2_loss: 1.1921e-07 - val_digit3_loss: 1.2994e-07 - val_digit4_loss: 0.3549 - val_circle1_loss: 1.1921e-07 - val_circle2_loss: 1.1921e-07 - val_circle3_loss: 1.8477e-07 - val_circle4_loss: 0.3033 - val_digit1_acc: 1.0000 - val_digit2_acc: 1.0000 - val_digit3_acc: 1.0000 - val_digit4_acc: 0.9500 - val_circle1_acc: 1.0000 - val_circle2_acc: 1.0000 - val_circle3_acc: 1.0000 - val_circle4_acc: 0.9700\n"
     ]
    },
    {
     "name": "stdout",
     "output_type": "stream",
     "text": [
      "Epoch 10/50\n",
      "800/800 [==============================] - 1s 793us/step - loss: 1.1389e-05 - digit1_loss: 2.0564e-07 - digit2_loss: 8.1391e-07 - digit3_loss: 7.6580e-06 - digit4_loss: 1.2934e-06 - circle1_loss: 3.5689e-07 - circle2_loss: 1.5430e-07 - circle3_loss: 5.5826e-07 - circle4_loss: 3.4825e-07 - digit1_acc: 1.0000 - digit2_acc: 1.0000 - digit3_acc: 1.0000 - digit4_acc: 1.0000 - circle1_acc: 1.0000 - circle2_acc: 1.0000 - circle3_acc: 1.0000 - circle4_acc: 1.0000 - val_loss: 0.6598 - val_digit1_loss: 1.1921e-07 - val_digit2_loss: 1.1921e-07 - val_digit3_loss: 1.2159e-07 - val_digit4_loss: 0.3661 - val_circle1_loss: 1.1921e-07 - val_circle2_loss: 1.1921e-07 - val_circle3_loss: 1.4305e-07 - val_circle4_loss: 0.2937 - val_digit1_acc: 1.0000 - val_digit2_acc: 1.0000 - val_digit3_acc: 1.0000 - val_digit4_acc: 0.9500 - val_circle1_acc: 1.0000 - val_circle2_acc: 1.0000 - val_circle3_acc: 1.0000 - val_circle4_acc: 0.9700\n",
      "Epoch 11/50\n",
      "800/800 [==============================] - 1s 801us/step - loss: 0.0011 - digit1_loss: 0.0011 - digit2_loss: 6.9712e-07 - digit3_loss: 1.8433e-07 - digit4_loss: 2.1350e-06 - circle1_loss: 3.2949e-06 - circle2_loss: 3.9401e-07 - circle3_loss: 7.1687e-07 - circle4_loss: 1.9938e-07 - digit1_acc: 0.9988 - digit2_acc: 1.0000 - digit3_acc: 1.0000 - digit4_acc: 1.0000 - circle1_acc: 1.0000 - circle2_acc: 1.0000 - circle3_acc: 1.0000 - circle4_acc: 1.0000 - val_loss: 0.6440 - val_digit1_loss: 1.1921e-07 - val_digit2_loss: 1.1921e-07 - val_digit3_loss: 1.1921e-07 - val_digit4_loss: 0.3596 - val_circle1_loss: 1.1921e-07 - val_circle2_loss: 1.2279e-07 - val_circle3_loss: 1.6332e-07 - val_circle4_loss: 0.2844 - val_digit1_acc: 1.0000 - val_digit2_acc: 1.0000 - val_digit3_acc: 1.0000 - val_digit4_acc: 0.9500 - val_circle1_acc: 1.0000 - val_circle2_acc: 1.0000 - val_circle3_acc: 1.0000 - val_circle4_acc: 0.9700\n",
      "Epoch 12/50\n",
      "800/800 [==============================] - 1s 793us/step - loss: 1.8635e-05 - digit1_loss: 1.7934e-07 - digit2_loss: 1.3471e-07 - digit3_loss: 9.3194e-07 - digit4_loss: 1.0823e-05 - circle1_loss: 1.4290e-07 - circle2_loss: 1.8314e-07 - circle3_loss: 3.5459e-07 - circle4_loss: 5.8857e-06 - digit1_acc: 1.0000 - digit2_acc: 1.0000 - digit3_acc: 1.0000 - digit4_acc: 1.0000 - circle1_acc: 1.0000 - circle2_acc: 1.0000 - circle3_acc: 1.0000 - circle4_acc: 1.0000 - val_loss: 0.6113 - val_digit1_loss: 1.1921e-07 - val_digit2_loss: 1.2159e-07 - val_digit3_loss: 1.1921e-07 - val_digit4_loss: 0.3309 - val_circle1_loss: 1.1921e-07 - val_circle2_loss: 3.6121e-07 - val_circle3_loss: 3.2902e-07 - val_circle4_loss: 0.2803 - val_digit1_acc: 1.0000 - val_digit2_acc: 1.0000 - val_digit3_acc: 1.0000 - val_digit4_acc: 0.9500 - val_circle1_acc: 1.0000 - val_circle2_acc: 1.0000 - val_circle3_acc: 1.0000 - val_circle4_acc: 0.9700\n",
      "Epoch 13/50\n",
      "800/800 [==============================] - 1s 809us/step - loss: 5.4499e-05 - digit1_loss: 1.0415e-06 - digit2_loss: 8.5176e-07 - digit3_loss: 4.7947e-05 - digit4_loss: 1.5641e-06 - circle1_loss: 1.4089e-07 - circle2_loss: 1.4633e-07 - circle3_loss: 1.8828e-07 - circle4_loss: 2.6191e-06 - digit1_acc: 1.0000 - digit2_acc: 1.0000 - digit3_acc: 1.0000 - digit4_acc: 1.0000 - circle1_acc: 1.0000 - circle2_acc: 1.0000 - circle3_acc: 1.0000 - circle4_acc: 1.0000 - val_loss: 0.5837 - val_digit1_loss: 1.1921e-07 - val_digit2_loss: 1.3351e-07 - val_digit3_loss: 1.1921e-07 - val_digit4_loss: 0.3086 - val_circle1_loss: 1.1921e-07 - val_circle2_loss: 2.6259e-06 - val_circle3_loss: 5.7102e-07 - val_circle4_loss: 0.2752 - val_digit1_acc: 1.0000 - val_digit2_acc: 1.0000 - val_digit3_acc: 1.0000 - val_digit4_acc: 0.9500 - val_circle1_acc: 1.0000 - val_circle2_acc: 1.0000 - val_circle3_acc: 1.0000 - val_circle4_acc: 0.9700\n",
      "Epoch 14/50\n",
      "800/800 [==============================] - 1s 807us/step - loss: 1.4332e-05 - digit1_loss: 2.4409e-07 - digit2_loss: 7.1173e-07 - digit3_loss: 3.7120e-07 - digit4_loss: 1.1437e-05 - circle1_loss: 1.1556e-06 - circle2_loss: 1.2890e-07 - circle3_loss: 1.2800e-07 - circle4_loss: 1.5594e-07 - digit1_acc: 1.0000 - digit2_acc: 1.0000 - digit3_acc: 1.0000 - digit4_acc: 1.0000 - circle1_acc: 1.0000 - circle2_acc: 1.0000 - circle3_acc: 1.0000 - circle4_acc: 1.0000 - val_loss: 0.5732 - val_digit1_loss: 1.1921e-07 - val_digit2_loss: 1.5378e-07 - val_digit3_loss: 1.1921e-07 - val_digit4_loss: 0.2977 - val_circle1_loss: 1.1921e-07 - val_circle2_loss: 7.8380e-06 - val_circle3_loss: 8.2853e-07 - val_circle4_loss: 0.2754 - val_digit1_acc: 1.0000 - val_digit2_acc: 1.0000 - val_digit3_acc: 1.0000 - val_digit4_acc: 0.9600 - val_circle1_acc: 1.0000 - val_circle2_acc: 1.0000 - val_circle3_acc: 1.0000 - val_circle4_acc: 0.9700\n",
      "Epoch 15/50\n",
      "800/800 [==============================] - 1s 805us/step - loss: 1.1644e-04 - digit1_loss: 2.7456e-07 - digit2_loss: 6.2168e-07 - digit3_loss: 9.7779e-05 - digit4_loss: 6.1135e-06 - circle1_loss: 9.2759e-06 - circle2_loss: 1.4918e-06 - circle3_loss: 2.9207e-07 - circle4_loss: 5.8693e-07 - digit1_acc: 1.0000 - digit2_acc: 1.0000 - digit3_acc: 1.0000 - digit4_acc: 1.0000 - circle1_acc: 1.0000 - circle2_acc: 1.0000 - circle3_acc: 1.0000 - circle4_acc: 1.0000 - val_loss: 0.5817 - val_digit1_loss: 1.1921e-07 - val_digit2_loss: 1.3053e-07 - val_digit3_loss: 1.1921e-07 - val_digit4_loss: 0.2967 - val_circle1_loss: 1.1921e-07 - val_circle2_loss: 2.7857e-06 - val_circle3_loss: 4.5479e-07 - val_circle4_loss: 0.2851 - val_digit1_acc: 1.0000 - val_digit2_acc: 1.0000 - val_digit3_acc: 1.0000 - val_digit4_acc: 0.9600 - val_circle1_acc: 1.0000 - val_circle2_acc: 1.0000 - val_circle3_acc: 1.0000 - val_circle4_acc: 0.9700\n",
      "Epoch 16/50\n",
      "800/800 [==============================] - 1s 804us/step - loss: 3.4714e-05 - digit1_loss: 1.3085e-05 - digit2_loss: 7.2581e-07 - digit3_loss: 1.5408e-07 - digit4_loss: 1.0257e-05 - circle1_loss: 1.8554e-06 - circle2_loss: 7.7335e-06 - circle3_loss: 3.8120e-07 - circle4_loss: 5.2197e-07 - digit1_acc: 1.0000 - digit2_acc: 1.0000 - digit3_acc: 1.0000 - digit4_acc: 1.0000 - circle1_acc: 1.0000 - circle2_acc: 1.0000 - circle3_acc: 1.0000 - circle4_acc: 1.0000 - val_loss: 0.5984 - val_digit1_loss: 1.1921e-07 - val_digit2_loss: 1.2219e-07 - val_digit3_loss: 1.1921e-07 - val_digit4_loss: 0.2992 - val_circle1_loss: 1.1921e-07 - val_circle2_loss: 9.6682e-07 - val_circle3_loss: 2.4557e-07 - val_circle4_loss: 0.2992 - val_digit1_acc: 1.0000 - val_digit2_acc: 1.0000 - val_digit3_acc: 1.0000 - val_digit4_acc: 0.9600 - val_circle1_acc: 1.0000 - val_circle2_acc: 1.0000 - val_circle3_acc: 1.0000 - val_circle4_acc: 0.9700\n",
      "Epoch 17/50\n",
      "800/800 [==============================] - 1s 792us/step - loss: 1.5712e-05 - digit1_loss: 2.0117e-07 - digit2_loss: 3.7642e-07 - digit3_loss: 1.7447e-06 - digit4_loss: 5.5399e-07 - circle1_loss: 4.0012e-07 - circle2_loss: 1.1638e-05 - circle3_loss: 1.4775e-07 - circle4_loss: 6.5026e-07 - digit1_acc: 1.0000 - digit2_acc: 1.0000 - digit3_acc: 1.0000 - digit4_acc: 1.0000 - circle1_acc: 1.0000 - circle2_acc: 1.0000 - circle3_acc: 1.0000 - circle4_acc: 1.0000 - val_loss: 0.6003 - val_digit1_loss: 1.1921e-07 - val_digit2_loss: 1.1921e-07 - val_digit3_loss: 1.1921e-07 - val_digit4_loss: 0.2945 - val_circle1_loss: 1.1921e-07 - val_circle2_loss: 3.5644e-07 - val_circle3_loss: 1.6689e-07 - val_circle4_loss: 0.3058 - val_digit1_acc: 1.0000 - val_digit2_acc: 1.0000 - val_digit3_acc: 1.0000 - val_digit4_acc: 0.9500 - val_circle1_acc: 1.0000 - val_circle2_acc: 1.0000 - val_circle3_acc: 1.0000 - val_circle4_acc: 0.9700\n",
      "Epoch 18/50\n",
      "800/800 [==============================] - 1s 790us/step - loss: 7.3324e-06 - digit1_loss: 4.1412e-07 - digit2_loss: 9.8289e-07 - digit3_loss: 8.7514e-07 - digit4_loss: 3.2962e-07 - circle1_loss: 9.5209e-07 - circle2_loss: 8.9122e-07 - circle3_loss: 1.2545e-06 - circle4_loss: 1.6328e-06 - digit1_acc: 1.0000 - digit2_acc: 1.0000 - digit3_acc: 1.0000 - digit4_acc: 1.0000 - circle1_acc: 1.0000 - circle2_acc: 1.0000 - circle3_acc: 1.0000 - circle4_acc: 1.0000 - val_loss: 0.6017 - val_digit1_loss: 1.2159e-07 - val_digit2_loss: 1.1921e-07 - val_digit3_loss: 1.1921e-07 - val_digit4_loss: 0.2901 - val_circle1_loss: 1.1921e-07 - val_circle2_loss: 2.1458e-07 - val_circle3_loss: 1.4424e-07 - val_circle4_loss: 0.3116 - val_digit1_acc: 1.0000 - val_digit2_acc: 1.0000 - val_digit3_acc: 1.0000 - val_digit4_acc: 0.9500 - val_circle1_acc: 1.0000 - val_circle2_acc: 1.0000 - val_circle3_acc: 1.0000 - val_circle4_acc: 0.9700\n"
     ]
    },
    {
     "name": "stdout",
     "output_type": "stream",
     "text": [
      "Epoch 19/50\n",
      "800/800 [==============================] - 1s 796us/step - loss: 9.5509e-05 - digit1_loss: 6.1494e-07 - digit2_loss: 2.1354e-06 - digit3_loss: 2.2750e-05 - digit4_loss: 4.3526e-05 - circle1_loss: 3.8066e-07 - circle2_loss: 2.9105e-06 - circle3_loss: 1.2234e-07 - circle4_loss: 2.3069e-05 - digit1_acc: 1.0000 - digit2_acc: 1.0000 - digit3_acc: 1.0000 - digit4_acc: 1.0000 - circle1_acc: 1.0000 - circle2_acc: 1.0000 - circle3_acc: 1.0000 - circle4_acc: 1.0000 - val_loss: 0.6226 - val_digit1_loss: 1.2755e-07 - val_digit2_loss: 1.1921e-07 - val_digit3_loss: 1.1921e-07 - val_digit4_loss: 0.2896 - val_circle1_loss: 1.1921e-07 - val_circle2_loss: 1.8060e-07 - val_circle3_loss: 1.2279e-07 - val_circle4_loss: 0.3330 - val_digit1_acc: 1.0000 - val_digit2_acc: 1.0000 - val_digit3_acc: 1.0000 - val_digit4_acc: 0.9500 - val_circle1_acc: 1.0000 - val_circle2_acc: 1.0000 - val_circle3_acc: 1.0000 - val_circle4_acc: 0.9700\n",
      "Epoch 20/50\n",
      "800/800 [==============================] - 1s 788us/step - loss: 2.7863e-04 - digit1_loss: 2.5645e-07 - digit2_loss: 2.6674e-07 - digit3_loss: 1.3732e-05 - digit4_loss: 2.6376e-04 - circle1_loss: 2.1048e-07 - circle2_loss: 1.3888e-07 - circle3_loss: 1.4015e-07 - circle4_loss: 1.3128e-07 - digit1_acc: 1.0000 - digit2_acc: 1.0000 - digit3_acc: 1.0000 - digit4_acc: 1.0000 - circle1_acc: 1.0000 - circle2_acc: 1.0000 - circle3_acc: 1.0000 - circle4_acc: 1.0000 - val_loss: 0.6529 - val_digit1_loss: 1.4842e-07 - val_digit2_loss: 1.1921e-07 - val_digit3_loss: 1.1921e-07 - val_digit4_loss: 0.2888 - val_circle1_loss: 1.1921e-07 - val_circle2_loss: 3.7551e-07 - val_circle3_loss: 1.1981e-07 - val_circle4_loss: 0.3641 - val_digit1_acc: 1.0000 - val_digit2_acc: 1.0000 - val_digit3_acc: 1.0000 - val_digit4_acc: 0.9500 - val_circle1_acc: 1.0000 - val_circle2_acc: 1.0000 - val_circle3_acc: 1.0000 - val_circle4_acc: 0.9700\n",
      "Epoch 21/50\n",
      "800/800 [==============================] - 1s 790us/step - loss: 4.8269e-06 - digit1_loss: 1.4781e-06 - digit2_loss: 2.0899e-07 - digit3_loss: 8.4697e-07 - digit4_loss: 1.7013e-06 - circle1_loss: 1.3053e-07 - circle2_loss: 1.2428e-07 - circle3_loss: 2.0966e-07 - circle4_loss: 1.2711e-07 - digit1_acc: 1.0000 - digit2_acc: 1.0000 - digit3_acc: 1.0000 - digit4_acc: 1.0000 - circle1_acc: 1.0000 - circle2_acc: 1.0000 - circle3_acc: 1.0000 - circle4_acc: 1.0000 - val_loss: 0.7042 - val_digit1_loss: 2.8968e-07 - val_digit2_loss: 1.1921e-07 - val_digit3_loss: 1.1921e-07 - val_digit4_loss: 0.3019 - val_circle1_loss: 1.1921e-07 - val_circle2_loss: 4.6430e-06 - val_circle3_loss: 1.1921e-07 - val_circle4_loss: 0.4022 - val_digit1_acc: 1.0000 - val_digit2_acc: 1.0000 - val_digit3_acc: 1.0000 - val_digit4_acc: 0.9400 - val_circle1_acc: 1.0000 - val_circle2_acc: 1.0000 - val_circle3_acc: 1.0000 - val_circle4_acc: 0.9700\n",
      "Epoch 22/50\n",
      "800/800 [==============================] - 1s 813us/step - loss: 1.4134e-05 - digit1_loss: 7.6760e-07 - digit2_loss: 1.6607e-07 - digit3_loss: 1.7753e-06 - digit4_loss: 5.1946e-06 - circle1_loss: 1.7278e-07 - circle2_loss: 3.2076e-06 - circle3_loss: 1.9625e-07 - circle4_loss: 2.6541e-06 - digit1_acc: 1.0000 - digit2_acc: 1.0000 - digit3_acc: 1.0000 - digit4_acc: 1.0000 - circle1_acc: 1.0000 - circle2_acc: 1.0000 - circle3_acc: 1.0000 - circle4_acc: 1.0000 - val_loss: 0.7476 - val_digit1_loss: 7.7547e-07 - val_digit2_loss: 1.1921e-07 - val_digit3_loss: 1.2398e-07 - val_digit4_loss: 0.3208 - val_circle1_loss: 1.1981e-07 - val_circle2_loss: 2.7442e-05 - val_circle3_loss: 1.1921e-07 - val_circle4_loss: 0.4268 - val_digit1_acc: 1.0000 - val_digit2_acc: 1.0000 - val_digit3_acc: 1.0000 - val_digit4_acc: 0.9500 - val_circle1_acc: 1.0000 - val_circle2_acc: 1.0000 - val_circle3_acc: 1.0000 - val_circle4_acc: 0.9700\n",
      "Epoch 23/50\n",
      "800/800 [==============================] - 1s 814us/step - loss: 5.3841e-04 - digit1_loss: 5.3184e-04 - digit2_loss: 6.5268e-07 - digit3_loss: 3.4825e-06 - digit4_loss: 2.8283e-07 - circle1_loss: 3.2262e-07 - circle2_loss: 1.9625e-07 - circle3_loss: 1.4403e-06 - circle4_loss: 1.9364e-07 - digit1_acc: 1.0000 - digit2_acc: 1.0000 - digit3_acc: 1.0000 - digit4_acc: 1.0000 - circle1_acc: 1.0000 - circle2_acc: 1.0000 - circle3_acc: 1.0000 - circle4_acc: 1.0000 - val_loss: 0.7508 - val_digit1_loss: 7.6831e-07 - val_digit2_loss: 1.2040e-07 - val_digit3_loss: 1.2159e-07 - val_digit4_loss: 0.3298 - val_circle1_loss: 1.2040e-07 - val_circle2_loss: 3.1910e-05 - val_circle3_loss: 1.1921e-07 - val_circle4_loss: 0.4210 - val_digit1_acc: 1.0000 - val_digit2_acc: 1.0000 - val_digit3_acc: 1.0000 - val_digit4_acc: 0.9500 - val_circle1_acc: 1.0000 - val_circle2_acc: 1.0000 - val_circle3_acc: 1.0000 - val_circle4_acc: 0.9700\n",
      "Epoch 24/50\n",
      "800/800 [==============================] - 1s 809us/step - loss: 6.3570e-05 - digit1_loss: 1.6019e-07 - digit2_loss: 1.6581e-05 - digit3_loss: 6.2813e-06 - digit4_loss: 2.3193e-06 - circle1_loss: 1.3068e-07 - circle2_loss: 3.1681e-06 - circle3_loss: 1.3515e-07 - circle4_loss: 3.4794e-05 - digit1_acc: 1.0000 - digit2_acc: 1.0000 - digit3_acc: 1.0000 - digit4_acc: 1.0000 - circle1_acc: 1.0000 - circle2_acc: 1.0000 - circle3_acc: 1.0000 - circle4_acc: 1.0000 - val_loss: 0.8257 - val_digit1_loss: 5.8902e-06 - val_digit2_loss: 1.3947e-07 - val_digit3_loss: 1.3053e-07 - val_digit4_loss: 0.3934 - val_circle1_loss: 1.2994e-07 - val_circle2_loss: 3.1180e-05 - val_circle3_loss: 1.1921e-07 - val_circle4_loss: 0.4323 - val_digit1_acc: 1.0000 - val_digit2_acc: 1.0000 - val_digit3_acc: 1.0000 - val_digit4_acc: 0.9200 - val_circle1_acc: 1.0000 - val_circle2_acc: 1.0000 - val_circle3_acc: 1.0000 - val_circle4_acc: 0.9700\n",
      "Epoch 25/50\n",
      "800/800 [==============================] - 1s 796us/step - loss: 2.3895e-05 - digit1_loss: 7.2903e-07 - digit2_loss: 4.4064e-06 - digit3_loss: 1.7112e-05 - digit4_loss: 3.5123e-07 - circle1_loss: 1.8075e-07 - circle2_loss: 1.2398e-07 - circle3_loss: 4.9944e-07 - circle4_loss: 4.9258e-07 - digit1_acc: 1.0000 - digit2_acc: 1.0000 - digit3_acc: 1.0000 - digit4_acc: 1.0000 - circle1_acc: 1.0000 - circle2_acc: 1.0000 - circle3_acc: 1.0000 - circle4_acc: 1.0000 - val_loss: 0.8466 - val_digit1_loss: 1.3511e-05 - val_digit2_loss: 1.9550e-07 - val_digit3_loss: 1.4246e-07 - val_digit4_loss: 0.4186 - val_circle1_loss: 1.5259e-07 - val_circle2_loss: 1.7220e-05 - val_circle3_loss: 1.1921e-07 - val_circle4_loss: 0.4280 - val_digit1_acc: 1.0000 - val_digit2_acc: 1.0000 - val_digit3_acc: 1.0000 - val_digit4_acc: 0.9200 - val_circle1_acc: 1.0000 - val_circle2_acc: 1.0000 - val_circle3_acc: 1.0000 - val_circle4_acc: 0.9700\n",
      "Epoch 26/50\n",
      "800/800 [==============================] - 1s 796us/step - loss: 3.2252e-06 - digit1_loss: 1.4201e-07 - digit2_loss: 2.8014e-07 - digit3_loss: 3.8706e-07 - digit4_loss: 4.8073e-07 - circle1_loss: 1.0829e-06 - circle2_loss: 4.3803e-07 - circle3_loss: 1.6987e-07 - circle4_loss: 2.4438e-07 - digit1_acc: 1.0000 - digit2_acc: 1.0000 - digit3_acc: 1.0000 - digit4_acc: 1.0000 - circle1_acc: 1.0000 - circle2_acc: 1.0000 - circle3_acc: 1.0000 - circle4_acc: 1.0000 - val_loss: 0.8500 - val_digit1_loss: 1.8977e-05 - val_digit2_loss: 2.6763e-07 - val_digit3_loss: 1.5616e-07 - val_digit4_loss: 0.4263 - val_circle1_loss: 1.8477e-07 - val_circle2_loss: 1.0927e-05 - val_circle3_loss: 1.1921e-07 - val_circle4_loss: 0.4237 - val_digit1_acc: 1.0000 - val_digit2_acc: 1.0000 - val_digit3_acc: 1.0000 - val_digit4_acc: 0.9200 - val_circle1_acc: 1.0000 - val_circle2_acc: 1.0000 - val_circle3_acc: 1.0000 - val_circle4_acc: 0.9700\n",
      "Epoch 27/50\n",
      "800/800 [==============================] - 1s 796us/step - loss: 4.1170e-04 - digit1_loss: 3.3849e-07 - digit2_loss: 1.4106e-05 - digit3_loss: 1.3984e-05 - digit4_loss: 2.9363e-07 - circle1_loss: 3.8129e-04 - circle2_loss: 7.5364e-07 - circle3_loss: 8.1379e-07 - circle4_loss: 1.2860e-07 - digit1_acc: 1.0000 - digit2_acc: 1.0000 - digit3_acc: 1.0000 - digit4_acc: 1.0000 - circle1_acc: 1.0000 - circle2_acc: 1.0000 - circle3_acc: 1.0000 - circle4_acc: 1.0000 - val_loss: 0.8472 - val_digit1_loss: 1.6946e-05 - val_digit2_loss: 3.6776e-07 - val_digit3_loss: 1.7405e-07 - val_digit4_loss: 0.4271 - val_circle1_loss: 4.2856e-07 - val_circle2_loss: 4.8589e-06 - val_circle3_loss: 1.2040e-07 - val_circle4_loss: 0.4201 - val_digit1_acc: 1.0000 - val_digit2_acc: 1.0000 - val_digit3_acc: 1.0000 - val_digit4_acc: 0.9200 - val_circle1_acc: 1.0000 - val_circle2_acc: 1.0000 - val_circle3_acc: 1.0000 - val_circle4_acc: 0.9700\n"
     ]
    },
    {
     "name": "stdout",
     "output_type": "stream",
     "text": [
      "Epoch 28/50\n",
      "800/800 [==============================] - 1s 809us/step - loss: 1.8909e-05 - digit1_loss: 1.6886e-05 - digit2_loss: 1.3001e-07 - digit3_loss: 3.1844e-07 - digit4_loss: 2.6174e-07 - circle1_loss: 1.1921e-07 - circle2_loss: 1.2077e-07 - circle3_loss: 1.4097e-07 - circle4_loss: 9.3172e-07 - digit1_acc: 1.0000 - digit2_acc: 1.0000 - digit3_acc: 1.0000 - digit4_acc: 1.0000 - circle1_acc: 1.0000 - circle2_acc: 1.0000 - circle3_acc: 1.0000 - circle4_acc: 1.0000 - val_loss: 0.8447 - val_digit1_loss: 1.8883e-05 - val_digit2_loss: 4.7684e-07 - val_digit3_loss: 1.9968e-07 - val_digit4_loss: 0.4266 - val_circle1_loss: 1.9000e-05 - val_circle2_loss: 3.2171e-06 - val_circle3_loss: 1.2279e-07 - val_circle4_loss: 0.4180 - val_digit1_acc: 1.0000 - val_digit2_acc: 1.0000 - val_digit3_acc: 1.0000 - val_digit4_acc: 0.9200 - val_circle1_acc: 1.0000 - val_circle2_acc: 1.0000 - val_circle3_acc: 1.0000 - val_circle4_acc: 0.9700\n",
      "Epoch 29/50\n",
      "800/800 [==============================] - 1s 808us/step - loss: 8.7701e-06 - digit1_loss: 1.4223e-07 - digit2_loss: 4.0808e-07 - digit3_loss: 5.8813e-06 - digit4_loss: 1.5385e-06 - circle1_loss: 1.2830e-07 - circle2_loss: 1.6280e-07 - circle3_loss: 1.4678e-07 - circle4_loss: 3.6219e-07 - digit1_acc: 1.0000 - digit2_acc: 1.0000 - digit3_acc: 1.0000 - digit4_acc: 1.0000 - circle1_acc: 1.0000 - circle2_acc: 1.0000 - circle3_acc: 1.0000 - circle4_acc: 1.0000 - val_loss: 0.8233 - val_digit1_loss: 2.6551e-05 - val_digit2_loss: 5.7400e-07 - val_digit3_loss: 2.3782e-07 - val_digit4_loss: 0.4103 - val_circle1_loss: 2.2552e-04 - val_circle2_loss: 7.9524e-06 - val_circle3_loss: 1.2577e-07 - val_circle4_loss: 0.4127 - val_digit1_acc: 1.0000 - val_digit2_acc: 1.0000 - val_digit3_acc: 1.0000 - val_digit4_acc: 0.9200 - val_circle1_acc: 1.0000 - val_circle2_acc: 1.0000 - val_circle3_acc: 1.0000 - val_circle4_acc: 0.9700\n",
      "Epoch 30/50\n",
      "800/800 [==============================] - 1s 814us/step - loss: 1.5470e-05 - digit1_loss: 2.2911e-07 - digit2_loss: 1.0161e-05 - digit3_loss: 1.8179e-07 - digit4_loss: 2.6685e-06 - circle1_loss: 1.2912e-07 - circle2_loss: 1.8455e-07 - circle3_loss: 1.5021e-06 - circle4_loss: 4.1338e-07 - digit1_acc: 1.0000 - digit2_acc: 1.0000 - digit3_acc: 1.0000 - digit4_acc: 1.0000 - circle1_acc: 1.0000 - circle2_acc: 1.0000 - circle3_acc: 1.0000 - circle4_acc: 1.0000 - val_loss: 0.7991 - val_digit1_loss: 3.0071e-05 - val_digit2_loss: 5.5969e-07 - val_digit3_loss: 2.8789e-07 - val_digit4_loss: 0.3907 - val_circle1_loss: 8.6900e-04 - val_circle2_loss: 2.0125e-05 - val_circle3_loss: 1.2755e-07 - val_circle4_loss: 0.4075 - val_digit1_acc: 1.0000 - val_digit2_acc: 1.0000 - val_digit3_acc: 1.0000 - val_digit4_acc: 0.9200 - val_circle1_acc: 1.0000 - val_circle2_acc: 1.0000 - val_circle3_acc: 1.0000 - val_circle4_acc: 0.9700\n",
      "Epoch 31/50\n",
      "800/800 [==============================] - 1s 825us/step - loss: 2.4521e-05 - digit1_loss: 2.1324e-07 - digit2_loss: 3.4871e-06 - digit3_loss: 1.4947e-06 - digit4_loss: 1.8427e-05 - circle1_loss: 3.8425e-07 - circle2_loss: 1.8530e-07 - circle3_loss: 1.7017e-07 - circle4_loss: 1.5914e-07 - digit1_acc: 1.0000 - digit2_acc: 1.0000 - digit3_acc: 1.0000 - digit4_acc: 1.0000 - circle1_acc: 1.0000 - circle2_acc: 1.0000 - circle3_acc: 1.0000 - circle4_acc: 1.0000 - val_loss: 0.7680 - val_digit1_loss: 2.7777e-05 - val_digit2_loss: 4.8280e-07 - val_digit3_loss: 3.2246e-07 - val_digit4_loss: 0.3656 - val_circle1_loss: 0.0015 - val_circle2_loss: 3.1675e-05 - val_circle3_loss: 1.2696e-07 - val_circle4_loss: 0.4008 - val_digit1_acc: 1.0000 - val_digit2_acc: 1.0000 - val_digit3_acc: 1.0000 - val_digit4_acc: 0.9200 - val_circle1_acc: 1.0000 - val_circle2_acc: 1.0000 - val_circle3_acc: 1.0000 - val_circle4_acc: 0.9700\n",
      "Epoch 32/50\n",
      "800/800 [==============================] - 1s 807us/step - loss: 1.3192e-05 - digit1_loss: 1.2323e-07 - digit2_loss: 4.9406e-06 - digit3_loss: 3.9407e-06 - digit4_loss: 3.7447e-07 - circle1_loss: 1.2062e-07 - circle2_loss: 3.3174e-06 - circle3_loss: 1.5423e-07 - circle4_loss: 2.2128e-07 - digit1_acc: 1.0000 - digit2_acc: 1.0000 - digit3_acc: 1.0000 - digit4_acc: 1.0000 - circle1_acc: 1.0000 - circle2_acc: 1.0000 - circle3_acc: 1.0000 - circle4_acc: 1.0000 - val_loss: 0.7204 - val_digit1_loss: 1.8411e-05 - val_digit2_loss: 4.2200e-07 - val_digit3_loss: 3.3558e-07 - val_digit4_loss: 0.3293 - val_circle1_loss: 0.0013 - val_circle2_loss: 3.6475e-05 - val_circle3_loss: 1.2517e-07 - val_circle4_loss: 0.3897 - val_digit1_acc: 1.0000 - val_digit2_acc: 1.0000 - val_digit3_acc: 1.0000 - val_digit4_acc: 0.9400 - val_circle1_acc: 1.0000 - val_circle2_acc: 1.0000 - val_circle3_acc: 1.0000 - val_circle4_acc: 0.9700\n",
      "Epoch 33/50\n",
      "800/800 [==============================] - 1s 818us/step - loss: 3.3117e-06 - digit1_loss: 1.9707e-07 - digit2_loss: 1.9573e-07 - digit3_loss: 2.9445e-07 - digit4_loss: 1.6847e-06 - circle1_loss: 1.3389e-07 - circle2_loss: 3.7783e-07 - circle3_loss: 2.8626e-07 - circle4_loss: 1.4171e-07 - digit1_acc: 1.0000 - digit2_acc: 1.0000 - digit3_acc: 1.0000 - digit4_acc: 1.0000 - circle1_acc: 1.0000 - circle2_acc: 1.0000 - circle3_acc: 1.0000 - circle4_acc: 1.0000 - val_loss: 0.6762 - val_digit1_loss: 1.1017e-05 - val_digit2_loss: 3.8564e-07 - val_digit3_loss: 3.3081e-07 - val_digit4_loss: 0.2970 - val_circle1_loss: 8.3011e-04 - val_circle2_loss: 3.5914e-05 - val_circle3_loss: 1.2398e-07 - val_circle4_loss: 0.3783 - val_digit1_acc: 1.0000 - val_digit2_acc: 1.0000 - val_digit3_acc: 1.0000 - val_digit4_acc: 0.9400 - val_circle1_acc: 1.0000 - val_circle2_acc: 1.0000 - val_circle3_acc: 1.0000 - val_circle4_acc: 0.9700\n",
      "Epoch 34/50\n",
      "800/800 [==============================] - 1s 807us/step - loss: 3.3481e-06 - digit1_loss: 6.9502e-07 - digit2_loss: 1.8470e-07 - digit3_loss: 2.9713e-07 - digit4_loss: 5.6335e-07 - circle1_loss: 2.6860e-07 - circle2_loss: 5.5048e-07 - circle3_loss: 1.3113e-07 - circle4_loss: 6.5770e-07 - digit1_acc: 1.0000 - digit2_acc: 1.0000 - digit3_acc: 1.0000 - digit4_acc: 1.0000 - circle1_acc: 1.0000 - circle2_acc: 1.0000 - circle3_acc: 1.0000 - circle4_acc: 1.0000 - val_loss: 0.6469 - val_digit1_loss: 6.3290e-06 - val_digit2_loss: 3.5107e-07 - val_digit3_loss: 3.2246e-07 - val_digit4_loss: 0.2769 - val_circle1_loss: 4.9550e-04 - val_circle2_loss: 3.1092e-05 - val_circle3_loss: 1.2279e-07 - val_circle4_loss: 0.3695 - val_digit1_acc: 1.0000 - val_digit2_acc: 1.0000 - val_digit3_acc: 1.0000 - val_digit4_acc: 0.9500 - val_circle1_acc: 1.0000 - val_circle2_acc: 1.0000 - val_circle3_acc: 1.0000 - val_circle4_acc: 0.9700\n",
      "Epoch 35/50\n",
      "800/800 [==============================] - 1s 813us/step - loss: 3.5024e-06 - digit1_loss: 1.3627e-07 - digit2_loss: 7.5016e-07 - digit3_loss: 2.5027e-07 - digit4_loss: 3.2470e-07 - circle1_loss: 1.9305e-07 - circle2_loss: 1.5782e-06 - circle3_loss: 1.4618e-07 - circle4_loss: 1.2353e-07 - digit1_acc: 1.0000 - digit2_acc: 1.0000 - digit3_acc: 1.0000 - digit4_acc: 1.0000 - circle1_acc: 1.0000 - circle2_acc: 1.0000 - circle3_acc: 1.0000 - circle4_acc: 1.0000 - val_loss: 0.6263 - val_digit1_loss: 3.8712e-06 - val_digit2_loss: 3.1293e-07 - val_digit3_loss: 3.0577e-07 - val_digit4_loss: 0.2640 - val_circle1_loss: 2.7896e-04 - val_circle2_loss: 2.6688e-05 - val_circle3_loss: 1.2159e-07 - val_circle4_loss: 0.3620 - val_digit1_acc: 1.0000 - val_digit2_acc: 1.0000 - val_digit3_acc: 1.0000 - val_digit4_acc: 0.9500 - val_circle1_acc: 1.0000 - val_circle2_acc: 1.0000 - val_circle3_acc: 1.0000 - val_circle4_acc: 0.9700\n",
      "Epoch 36/50\n",
      "800/800 [==============================] - 1s 811us/step - loss: 2.0438e-05 - digit1_loss: 3.4140e-07 - digit2_loss: 2.2926e-07 - digit3_loss: 3.1670e-06 - digit4_loss: 7.4450e-06 - circle1_loss: 8.3121e-06 - circle2_loss: 1.6771e-07 - circle3_loss: 1.4633e-07 - circle4_loss: 6.2915e-07 - digit1_acc: 1.0000 - digit2_acc: 1.0000 - digit3_acc: 1.0000 - digit4_acc: 1.0000 - circle1_acc: 1.0000 - circle2_acc: 1.0000 - circle3_acc: 1.0000 - circle4_acc: 1.0000 - val_loss: 0.6109 - val_digit1_loss: 2.3718e-06 - val_digit2_loss: 2.7716e-07 - val_digit3_loss: 2.8432e-07 - val_digit4_loss: 0.2557 - val_circle1_loss: 1.5219e-04 - val_circle2_loss: 2.3708e-05 - val_circle3_loss: 1.2100e-07 - val_circle4_loss: 0.3550 - val_digit1_acc: 1.0000 - val_digit2_acc: 1.0000 - val_digit3_acc: 1.0000 - val_digit4_acc: 0.9600 - val_circle1_acc: 1.0000 - val_circle2_acc: 1.0000 - val_circle3_acc: 1.0000 - val_circle4_acc: 0.9700\n"
     ]
    },
    {
     "name": "stdout",
     "output_type": "stream",
     "text": [
      "Epoch 37/50\n",
      "800/800 [==============================] - 1s 805us/step - loss: 5.3813e-06 - digit1_loss: 1.4469e-07 - digit2_loss: 3.4378e-07 - digit3_loss: 3.9080e-06 - digit4_loss: 3.4505e-07 - circle1_loss: 1.1981e-07 - circle2_loss: 1.8559e-07 - circle3_loss: 1.3113e-07 - circle4_loss: 2.0325e-07 - digit1_acc: 1.0000 - digit2_acc: 1.0000 - digit3_acc: 1.0000 - digit4_acc: 1.0000 - circle1_acc: 1.0000 - circle2_acc: 1.0000 - circle3_acc: 1.0000 - circle4_acc: 1.0000 - val_loss: 0.5980 - val_digit1_loss: 1.3525e-06 - val_digit2_loss: 2.5392e-07 - val_digit3_loss: 2.5094e-07 - val_digit4_loss: 0.2504 - val_circle1_loss: 7.7999e-05 - val_circle2_loss: 1.8448e-05 - val_circle3_loss: 1.2040e-07 - val_circle4_loss: 0.3475 - val_digit1_acc: 1.0000 - val_digit2_acc: 1.0000 - val_digit3_acc: 1.0000 - val_digit4_acc: 0.9600 - val_circle1_acc: 1.0000 - val_circle2_acc: 1.0000 - val_circle3_acc: 1.0000 - val_circle4_acc: 0.9700\n",
      "Epoch 38/50\n",
      "800/800 [==============================] - 1s 810us/step - loss: 0.0011 - digit1_loss: 3.0749e-07 - digit2_loss: 0.0011 - digit3_loss: 2.4289e-06 - digit4_loss: 8.9145e-07 - circle1_loss: 2.1368e-07 - circle2_loss: 4.7264e-07 - circle3_loss: 1.2018e-07 - circle4_loss: 4.9929e-07 - digit1_acc: 1.0000 - digit2_acc: 0.9988 - digit3_acc: 1.0000 - digit4_acc: 1.0000 - circle1_acc: 1.0000 - circle2_acc: 1.0000 - circle3_acc: 1.0000 - circle4_acc: 1.0000 - val_loss: 0.5465 - val_digit1_loss: 1.5378e-07 - val_digit2_loss: 1.3649e-07 - val_digit3_loss: 1.5259e-07 - val_digit4_loss: 0.2387 - val_circle1_loss: 7.4389e-07 - val_circle2_loss: 1.9624e-06 - val_circle3_loss: 1.1921e-07 - val_circle4_loss: 0.3077 - val_digit1_acc: 1.0000 - val_digit2_acc: 1.0000 - val_digit3_acc: 1.0000 - val_digit4_acc: 0.9700 - val_circle1_acc: 1.0000 - val_circle2_acc: 1.0000 - val_circle3_acc: 1.0000 - val_circle4_acc: 0.9700\n",
      "Epoch 39/50\n",
      "800/800 [==============================] - 1s 810us/step - loss: 9.2361e-05 - digit1_loss: 1.2122e-07 - digit2_loss: 2.3969e-07 - digit3_loss: 1.4558e-07 - digit4_loss: 9.1259e-05 - circle1_loss: 1.2696e-07 - circle2_loss: 2.0906e-07 - circle3_loss: 1.3739e-07 - circle4_loss: 1.2234e-07 - digit1_acc: 1.0000 - digit2_acc: 1.0000 - digit3_acc: 1.0000 - digit4_acc: 1.0000 - circle1_acc: 1.0000 - circle2_acc: 1.0000 - circle3_acc: 1.0000 - circle4_acc: 1.0000 - val_loss: 0.5220 - val_digit1_loss: 1.2040e-07 - val_digit2_loss: 1.2636e-07 - val_digit3_loss: 1.3232e-07 - val_digit4_loss: 0.2338 - val_circle1_loss: 1.3351e-07 - val_circle2_loss: 2.1696e-07 - val_circle3_loss: 1.1921e-07 - val_circle4_loss: 0.2882 - val_digit1_acc: 1.0000 - val_digit2_acc: 1.0000 - val_digit3_acc: 1.0000 - val_digit4_acc: 0.9700 - val_circle1_acc: 1.0000 - val_circle2_acc: 1.0000 - val_circle3_acc: 1.0000 - val_circle4_acc: 0.9700\n",
      "Epoch 40/50\n",
      "800/800 [==============================] - 1s 804us/step - loss: 3.3553e-05 - digit1_loss: 1.5132e-07 - digit2_loss: 1.7323e-07 - digit3_loss: 2.5581e-05 - digit4_loss: 2.6524e-07 - circle1_loss: 4.2421e-06 - circle2_loss: 5.0690e-07 - circle3_loss: 1.4365e-07 - circle4_loss: 2.4901e-06 - digit1_acc: 1.0000 - digit2_acc: 1.0000 - digit3_acc: 1.0000 - digit4_acc: 1.0000 - circle1_acc: 1.0000 - circle2_acc: 1.0000 - circle3_acc: 1.0000 - circle4_acc: 1.0000 - val_loss: 0.5110 - val_digit1_loss: 1.1921e-07 - val_digit2_loss: 1.4722e-07 - val_digit3_loss: 1.2517e-07 - val_digit4_loss: 0.2307 - val_circle1_loss: 1.1981e-07 - val_circle2_loss: 1.3292e-07 - val_circle3_loss: 1.1921e-07 - val_circle4_loss: 0.2803 - val_digit1_acc: 1.0000 - val_digit2_acc: 1.0000 - val_digit3_acc: 1.0000 - val_digit4_acc: 0.9700 - val_circle1_acc: 1.0000 - val_circle2_acc: 1.0000 - val_circle3_acc: 1.0000 - val_circle4_acc: 0.9700\n",
      "Epoch 41/50\n",
      "800/800 [==============================] - 1s 813us/step - loss: 3.5912e-06 - digit1_loss: 1.4164e-07 - digit2_loss: 1.9319e-07 - digit3_loss: 4.1210e-07 - digit4_loss: 2.1915e-06 - circle1_loss: 1.5982e-07 - circle2_loss: 2.3574e-07 - circle3_loss: 1.3135e-07 - circle4_loss: 1.2591e-07 - digit1_acc: 1.0000 - digit2_acc: 1.0000 - digit3_acc: 1.0000 - digit4_acc: 1.0000 - circle1_acc: 1.0000 - circle2_acc: 1.0000 - circle3_acc: 1.0000 - circle4_acc: 1.0000 - val_loss: 0.5052 - val_digit1_loss: 1.1921e-07 - val_digit2_loss: 2.0802e-07 - val_digit3_loss: 1.2398e-07 - val_digit4_loss: 0.2290 - val_circle1_loss: 1.1921e-07 - val_circle2_loss: 1.3292e-07 - val_circle3_loss: 1.1921e-07 - val_circle4_loss: 0.2761 - val_digit1_acc: 1.0000 - val_digit2_acc: 1.0000 - val_digit3_acc: 1.0000 - val_digit4_acc: 0.9700 - val_circle1_acc: 1.0000 - val_circle2_acc: 1.0000 - val_circle3_acc: 1.0000 - val_circle4_acc: 0.9700\n",
      "Epoch 42/50\n",
      "800/800 [==============================] - 1s 797us/step - loss: 6.1492e-06 - digit1_loss: 3.8954e-07 - digit2_loss: 1.2338e-07 - digit3_loss: 1.5624e-07 - digit4_loss: 1.2753e-06 - circle1_loss: 3.3909e-06 - circle2_loss: 1.5087e-07 - circle3_loss: 3.3499e-07 - circle4_loss: 3.2798e-07 - digit1_acc: 1.0000 - digit2_acc: 1.0000 - digit3_acc: 1.0000 - digit4_acc: 1.0000 - circle1_acc: 1.0000 - circle2_acc: 1.0000 - circle3_acc: 1.0000 - circle4_acc: 1.0000 - val_loss: 0.5035 - val_digit1_loss: 1.1921e-07 - val_digit2_loss: 2.9266e-07 - val_digit3_loss: 1.2457e-07 - val_digit4_loss: 0.2288 - val_circle1_loss: 1.1921e-07 - val_circle2_loss: 1.4544e-07 - val_circle3_loss: 1.1921e-07 - val_circle4_loss: 0.2747 - val_digit1_acc: 1.0000 - val_digit2_acc: 1.0000 - val_digit3_acc: 1.0000 - val_digit4_acc: 0.9700 - val_circle1_acc: 1.0000 - val_circle2_acc: 1.0000 - val_circle3_acc: 1.0000 - val_circle4_acc: 0.9700\n",
      "Epoch 43/50\n",
      "800/800 [==============================] - 1s 792us/step - loss: 3.8874e-04 - digit1_loss: 1.3351e-07 - digit2_loss: 3.7677e-04 - digit3_loss: 9.9339e-06 - digit4_loss: 5.8418e-07 - circle1_loss: 2.4789e-07 - circle2_loss: 1.3284e-07 - circle3_loss: 5.5145e-07 - circle4_loss: 3.8446e-07 - digit1_acc: 1.0000 - digit2_acc: 1.0000 - digit3_acc: 1.0000 - digit4_acc: 1.0000 - circle1_acc: 1.0000 - circle2_acc: 1.0000 - circle3_acc: 1.0000 - circle4_acc: 1.0000 - val_loss: 0.4670 - val_digit1_loss: 1.1921e-07 - val_digit2_loss: 2.5094e-07 - val_digit3_loss: 1.2875e-07 - val_digit4_loss: 0.2182 - val_circle1_loss: 1.1921e-07 - val_circle2_loss: 1.3232e-07 - val_circle3_loss: 1.1921e-07 - val_circle4_loss: 0.2488 - val_digit1_acc: 1.0000 - val_digit2_acc: 1.0000 - val_digit3_acc: 1.0000 - val_digit4_acc: 0.9700 - val_circle1_acc: 1.0000 - val_circle2_acc: 1.0000 - val_circle3_acc: 1.0000 - val_circle4_acc: 0.9700\n",
      "Epoch 44/50\n",
      "800/800 [==============================] - 1s 814us/step - loss: 0.0083 - digit1_loss: 1.2733e-07 - digit2_loss: 3.1513e-06 - digit3_loss: 0.0011 - digit4_loss: 2.3202e-06 - circle1_loss: 1.2223e-05 - circle2_loss: 2.2717e-07 - circle3_loss: 0.0073 - circle4_loss: 2.2918e-07 - digit1_acc: 1.0000 - digit2_acc: 1.0000 - digit3_acc: 0.9988 - digit4_acc: 1.0000 - circle1_acc: 1.0000 - circle2_acc: 1.0000 - circle3_acc: 0.9988 - circle4_acc: 1.0000 - val_loss: 0.4189 - val_digit1_loss: 1.1921e-07 - val_digit2_loss: 1.3709e-07 - val_digit3_loss: 1.5199e-07 - val_digit4_loss: 0.2104 - val_circle1_loss: 1.1921e-07 - val_circle2_loss: 1.2159e-07 - val_circle3_loss: 1.1921e-07 - val_circle4_loss: 0.2086 - val_digit1_acc: 1.0000 - val_digit2_acc: 1.0000 - val_digit3_acc: 1.0000 - val_digit4_acc: 0.9800 - val_circle1_acc: 1.0000 - val_circle2_acc: 1.0000 - val_circle3_acc: 1.0000 - val_circle4_acc: 0.9700\n",
      "Epoch 45/50\n",
      "800/800 [==============================] - 1s 794us/step - loss: 1.5527e-04 - digit1_loss: 1.6928e-07 - digit2_loss: 3.6012e-06 - digit3_loss: 9.2792e-07 - digit4_loss: 1.4984e-04 - circle1_loss: 1.2368e-07 - circle2_loss: 3.3535e-07 - circle3_loss: 1.2420e-07 - circle4_loss: 1.5691e-07 - digit1_acc: 1.0000 - digit2_acc: 1.0000 - digit3_acc: 1.0000 - digit4_acc: 1.0000 - circle1_acc: 1.0000 - circle2_acc: 1.0000 - circle3_acc: 1.0000 - circle4_acc: 1.0000 - val_loss: 0.3901 - val_digit1_loss: 1.1921e-07 - val_digit2_loss: 2.0266e-07 - val_digit3_loss: 3.2068e-07 - val_digit4_loss: 0.2053 - val_circle1_loss: 1.1921e-07 - val_circle2_loss: 1.5318e-07 - val_circle3_loss: 1.1921e-07 - val_circle4_loss: 0.1848 - val_digit1_acc: 1.0000 - val_digit2_acc: 1.0000 - val_digit3_acc: 1.0000 - val_digit4_acc: 0.9800 - val_circle1_acc: 1.0000 - val_circle2_acc: 1.0000 - val_circle3_acc: 1.0000 - val_circle4_acc: 0.9700\n"
     ]
    },
    {
     "name": "stdout",
     "output_type": "stream",
     "text": [
      "Epoch 46/50\n",
      "800/800 [==============================] - 1s 805us/step - loss: 2.8413e-05 - digit1_loss: 2.0862e-07 - digit2_loss: 8.5344e-07 - digit3_loss: 1.5387e-05 - digit4_loss: 3.2276e-07 - circle1_loss: 1.3605e-07 - circle2_loss: 1.6753e-06 - circle3_loss: 9.6064e-06 - circle4_loss: 2.2389e-07 - digit1_acc: 1.0000 - digit2_acc: 1.0000 - digit3_acc: 1.0000 - digit4_acc: 1.0000 - circle1_acc: 1.0000 - circle2_acc: 1.0000 - circle3_acc: 1.0000 - circle4_acc: 1.0000 - val_loss: 0.3765 - val_digit1_loss: 1.2040e-07 - val_digit2_loss: 7.9991e-07 - val_digit3_loss: 9.1794e-07 - val_digit4_loss: 0.2027 - val_circle1_loss: 1.1921e-07 - val_circle2_loss: 4.1008e-07 - val_circle3_loss: 1.1921e-07 - val_circle4_loss: 0.1738 - val_digit1_acc: 1.0000 - val_digit2_acc: 1.0000 - val_digit3_acc: 1.0000 - val_digit4_acc: 0.9800 - val_circle1_acc: 1.0000 - val_circle2_acc: 1.0000 - val_circle3_acc: 1.0000 - val_circle4_acc: 0.9900\n",
      "Epoch 47/50\n",
      "800/800 [==============================] - 1s 805us/step - loss: 3.5371e-06 - digit1_loss: 1.5803e-07 - digit2_loss: 6.5538e-07 - digit3_loss: 2.4907e-07 - digit4_loss: 6.5584e-07 - circle1_loss: 1.5251e-07 - circle2_loss: 4.6250e-07 - circle3_loss: 9.9294e-07 - circle4_loss: 2.1078e-07 - digit1_acc: 1.0000 - digit2_acc: 1.0000 - digit3_acc: 1.0000 - digit4_acc: 1.0000 - circle1_acc: 1.0000 - circle2_acc: 1.0000 - circle3_acc: 1.0000 - circle4_acc: 1.0000 - val_loss: 0.3723 - val_digit1_loss: 1.2338e-07 - val_digit2_loss: 3.1904e-06 - val_digit3_loss: 1.8747e-06 - val_digit4_loss: 0.2014 - val_circle1_loss: 1.1921e-07 - val_circle2_loss: 1.5182e-06 - val_circle3_loss: 1.1921e-07 - val_circle4_loss: 0.1709 - val_digit1_acc: 1.0000 - val_digit2_acc: 1.0000 - val_digit3_acc: 1.0000 - val_digit4_acc: 0.9800 - val_circle1_acc: 1.0000 - val_circle2_acc: 1.0000 - val_circle3_acc: 1.0000 - val_circle4_acc: 0.9900\n",
      "Epoch 48/50\n",
      "800/800 [==============================] - 1s 805us/step - loss: 1.0483e-04 - digit1_loss: 1.5016e-06 - digit2_loss: 2.5243e-07 - digit3_loss: 2.7046e-07 - digit4_loss: 1.3947e-06 - circle1_loss: 1.3009e-07 - circle2_loss: 8.1012e-07 - circle3_loss: 1.4603e-07 - circle4_loss: 1.0032e-04 - digit1_acc: 1.0000 - digit2_acc: 1.0000 - digit3_acc: 1.0000 - digit4_acc: 1.0000 - circle1_acc: 1.0000 - circle2_acc: 1.0000 - circle3_acc: 1.0000 - circle4_acc: 1.0000 - val_loss: 0.3723 - val_digit1_loss: 1.2517e-07 - val_digit2_loss: 7.3524e-06 - val_digit3_loss: 2.2813e-06 - val_digit4_loss: 0.2014 - val_circle1_loss: 1.1921e-07 - val_circle2_loss: 3.4461e-06 - val_circle3_loss: 1.1921e-07 - val_circle4_loss: 0.1709 - val_digit1_acc: 1.0000 - val_digit2_acc: 1.0000 - val_digit3_acc: 1.0000 - val_digit4_acc: 0.9800 - val_circle1_acc: 1.0000 - val_circle2_acc: 1.0000 - val_circle3_acc: 1.0000 - val_circle4_acc: 0.9900\n",
      "Epoch 49/50\n",
      "800/800 [==============================] - 1s 811us/step - loss: 4.0107e-04 - digit1_loss: 1.8366e-07 - digit2_loss: 3.3476e-07 - digit3_loss: 1.3815e-04 - digit4_loss: 6.2367e-07 - circle1_loss: 1.2010e-07 - circle2_loss: 1.4797e-07 - circle3_loss: 2.5649e-04 - circle4_loss: 5.0187e-06 - digit1_acc: 1.0000 - digit2_acc: 1.0000 - digit3_acc: 1.0000 - digit4_acc: 1.0000 - circle1_acc: 1.0000 - circle2_acc: 1.0000 - circle3_acc: 1.0000 - circle4_acc: 1.0000 - val_loss: 0.3856 - val_digit1_loss: 1.2398e-07 - val_digit2_loss: 1.7113e-06 - val_digit3_loss: 4.8757e-07 - val_digit4_loss: 0.2042 - val_circle1_loss: 1.1921e-07 - val_circle2_loss: 8.7143e-07 - val_circle3_loss: 1.2040e-07 - val_circle4_loss: 0.1814 - val_digit1_acc: 1.0000 - val_digit2_acc: 1.0000 - val_digit3_acc: 1.0000 - val_digit4_acc: 0.9700 - val_circle1_acc: 1.0000 - val_circle2_acc: 1.0000 - val_circle3_acc: 1.0000 - val_circle4_acc: 0.9800\n",
      "Epoch 50/50\n",
      "800/800 [==============================] - 1s 799us/step - loss: 5.6741e-05 - digit1_loss: 1.0355e-06 - digit2_loss: 3.3267e-07 - digit3_loss: 5.0673e-07 - digit4_loss: 5.1462e-05 - circle1_loss: 5.9225e-07 - circle2_loss: 1.2457e-07 - circle3_loss: 3.1852e-07 - circle4_loss: 2.3688e-06 - digit1_acc: 1.0000 - digit2_acc: 1.0000 - digit3_acc: 1.0000 - digit4_acc: 1.0000 - circle1_acc: 1.0000 - circle2_acc: 1.0000 - circle3_acc: 1.0000 - circle4_acc: 1.0000 - val_loss: 0.4113 - val_digit1_loss: 1.2219e-07 - val_digit2_loss: 4.9830e-07 - val_digit3_loss: 1.9252e-07 - val_digit4_loss: 0.2100 - val_circle1_loss: 1.1921e-07 - val_circle2_loss: 3.2127e-07 - val_circle3_loss: 1.2279e-07 - val_circle4_loss: 0.2013 - val_digit1_acc: 1.0000 - val_digit2_acc: 1.0000 - val_digit3_acc: 1.0000 - val_digit4_acc: 0.9700 - val_circle1_acc: 1.0000 - val_circle2_acc: 1.0000 - val_circle3_acc: 1.0000 - val_circle4_acc: 0.9700\n"
     ]
    }
   ],
   "source": [
    "test.train(x_train, y_train, x_val, y_val, batch_size=200, epoch=50)"
   ]
  },
  {
   "cell_type": "code",
   "execution_count": 11,
   "metadata": {},
   "outputs": [],
   "source": [
    "import pandas as pd\n",
    "import numpy as np\n",
    "from PIL import Image\n",
    "data = pd.read_csv('label.txt', header=None)\n",
    "di = dict()\n",
    "for index, row in data.iterrows():\n",
    "    if (len(str(row[1])) < 4 ):\n",
    "        row[1] = ('0000' + str(row[1]))[-4:]\n",
    "    di[row[0]] = str(row[1])\n",
    "#print(di)"
   ]
  },
  {
   "cell_type": "code",
   "execution_count": 14,
   "metadata": {},
   "outputs": [
    {
     "name": "stdout",
     "output_type": "stream",
     "text": [
      "./data/925.png 9432 9435\n",
      "./data/927.png 7165 7169\n",
      "98\n"
     ]
    }
   ],
   "source": [
    "ok = 0\n",
    "for data_idx, key in enumerate(di.keys()):    \n",
    "    if (data_idx > 899):        \n",
    "        x_pred = []\n",
    "        test_img = Image.open(key).convert('RGB')\n",
    "        x_pred.append(np.array(test_img)/255)\n",
    "        y_val = str(di[key])\n",
    "\n",
    "        pred = test.model.predict(np.array(x_pred))\n",
    "        predVal = \"\"\n",
    "        for predC in np.argmax(pred[:4], axis=2):\n",
    "            predVal = predVal + str(predC[0])\n",
    "\n",
    "        if (predVal == y_val):\n",
    "            ok=ok+1\n",
    "        else:\n",
    "            print(key + ' ' + predVal + ' ' + y_val )\n",
    "        #pred = model.predict(np.array(x_pred))\n",
    "        #y_val = [  ]\n",
    "        #if(pred==y_val):\n",
    "#            ok=ok+1\n",
    "print(ok)"
   ]
  },
  {
   "cell_type": "code",
   "execution_count": null,
   "metadata": {},
   "outputs": [],
   "source": []
  }
 ],
 "metadata": {
  "kernelspec": {
   "display_name": "Python 3",
   "language": "python",
   "name": "python3"
  },
  "language_info": {
   "codemirror_mode": {
    "name": "ipython",
    "version": 3
   },
   "file_extension": ".py",
   "mimetype": "text/x-python",
   "name": "python",
   "nbconvert_exporter": "python",
   "pygments_lexer": "ipython3",
   "version": "3.6.8"
  }
 },
 "nbformat": 4,
 "nbformat_minor": 2
}
